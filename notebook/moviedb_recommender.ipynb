{
 "cells": [
  {
   "cell_type": "code",
   "execution_count": 1,
   "id": "0de5de7e-a2e4-4eed-b98e-57880e02ba11",
   "metadata": {},
   "outputs": [],
   "source": [
    "# 📚 Basic Libraries\n",
    "import numpy as np \n",
    "import pandas as pd\n",
    "import warnings\n",
    "import os\n",
    "\n",
    "# 📊 Visualizations\n",
    "import matplotlib.pyplot as plt\n",
    "import seaborn as sns\n",
    "import plotly.graph_objects as go\n",
    "\n",
    "# 🤖 Machine Learning\n",
    "from sklearn.preprocessing import StandardScaler, LabelEncoder, OneHotEncoder\n",
    "from sklearn.compose import ColumnTransformer\n",
    "from sklearn.pipeline import Pipeline\n",
    "from sklearn.feature_extraction.text import TfidfVectorizer\n",
    "from sklearn.cluster import KMeans\n",
    "from scipy.sparse import hstack\n",
    "from sklearn.metrics import silhouette_score"
   ]
  },
  {
   "cell_type": "code",
   "execution_count": 2,
   "id": "28ec52de-dc6a-4d9f-88b2-9e8ead776b3c",
   "metadata": {},
   "outputs": [],
   "source": [
    "df= pd.read_csv(\"../data/all_movies_combined.csv\")"
   ]
  },
  {
   "cell_type": "code",
   "execution_count": 3,
   "id": "4db3fd3c-929d-4512-90a0-9d26ff8f7aec",
   "metadata": {},
   "outputs": [
    {
     "data": {
      "text/html": [
       "<div>\n",
       "<style scoped>\n",
       "    .dataframe tbody tr th:only-of-type {\n",
       "        vertical-align: middle;\n",
       "    }\n",
       "\n",
       "    .dataframe tbody tr th {\n",
       "        vertical-align: top;\n",
       "    }\n",
       "\n",
       "    .dataframe thead th {\n",
       "        text-align: right;\n",
       "    }\n",
       "</style>\n",
       "<table border=\"1\" class=\"dataframe\">\n",
       "  <thead>\n",
       "    <tr style=\"text-align: right;\">\n",
       "      <th></th>\n",
       "      <th>id</th>\n",
       "      <th>title</th>\n",
       "      <th>overview</th>\n",
       "      <th>genres</th>\n",
       "      <th>vote_average</th>\n",
       "      <th>vote_count</th>\n",
       "      <th>release_date</th>\n",
       "      <th>original_language</th>\n",
       "      <th>popularity</th>\n",
       "      <th>adult</th>\n",
       "      <th>runtime</th>\n",
       "      <th>budget</th>\n",
       "      <th>revenue</th>\n",
       "      <th>cast</th>\n",
       "      <th>director</th>\n",
       "      <th>keywords</th>\n",
       "      <th>poster_url</th>\n",
       "    </tr>\n",
       "  </thead>\n",
       "  <tbody>\n",
       "    <tr>\n",
       "      <th>0</th>\n",
       "      <td>950387</td>\n",
       "      <td>A Minecraft Movie</td>\n",
       "      <td>Four misfits find themselves struggling with o...</td>\n",
       "      <td>['Family', 'Comedy', 'Adventure', 'Fantasy']</td>\n",
       "      <td>6.100</td>\n",
       "      <td>295</td>\n",
       "      <td>2025-03-31</td>\n",
       "      <td>en</td>\n",
       "      <td>1022.7906</td>\n",
       "      <td>False</td>\n",
       "      <td>101</td>\n",
       "      <td>150000000</td>\n",
       "      <td>313453003</td>\n",
       "      <td>['Jason Momoa', 'Jack Black', 'Sebastian Eugen...</td>\n",
       "      <td>Jared Hess</td>\n",
       "      <td>['friendship', 'surrealism', 'exploration', 'p...</td>\n",
       "      <td>https://image.tmdb.org/t/p/w500/yFHHfHcUgGAxzi...</td>\n",
       "    </tr>\n",
       "    <tr>\n",
       "      <th>1</th>\n",
       "      <td>1125899</td>\n",
       "      <td>Cleaner</td>\n",
       "      <td>When a group of radical activists take over an...</td>\n",
       "      <td>['Action', 'Thriller']</td>\n",
       "      <td>6.517</td>\n",
       "      <td>174</td>\n",
       "      <td>2025-02-19</td>\n",
       "      <td>en</td>\n",
       "      <td>343.3057</td>\n",
       "      <td>False</td>\n",
       "      <td>96</td>\n",
       "      <td>0</td>\n",
       "      <td>0</td>\n",
       "      <td>['Daisy Ridley', 'Clive Owen', 'Taz Skylar', '...</td>\n",
       "      <td>Martin Campbell</td>\n",
       "      <td>[]</td>\n",
       "      <td>https://image.tmdb.org/t/p/w500/mwzDApMZAGeYCE...</td>\n",
       "    </tr>\n",
       "    <tr>\n",
       "      <th>2</th>\n",
       "      <td>822119</td>\n",
       "      <td>Captain America: Brave New World</td>\n",
       "      <td>After meeting with newly elected U.S. Presiden...</td>\n",
       "      <td>['Action', 'Thriller', 'Science Fiction']</td>\n",
       "      <td>6.091</td>\n",
       "      <td>1232</td>\n",
       "      <td>2025-02-12</td>\n",
       "      <td>en</td>\n",
       "      <td>339.0809</td>\n",
       "      <td>False</td>\n",
       "      <td>119</td>\n",
       "      <td>180000000</td>\n",
       "      <td>411409721</td>\n",
       "      <td>['Anthony Mackie', 'Harrison Ford', 'Danny Ram...</td>\n",
       "      <td>Julius Onah</td>\n",
       "      <td>['hero', 'superhero', 'revenge', 'aftercredits...</td>\n",
       "      <td>https://image.tmdb.org/t/p/w500/pzIddUEMWhWzfv...</td>\n",
       "    </tr>\n",
       "    <tr>\n",
       "      <th>3</th>\n",
       "      <td>1197306</td>\n",
       "      <td>A Working Man</td>\n",
       "      <td>Levon Cade left behind a decorated military ca...</td>\n",
       "      <td>['Action', 'Crime', 'Thriller']</td>\n",
       "      <td>6.467</td>\n",
       "      <td>151</td>\n",
       "      <td>2025-03-26</td>\n",
       "      <td>en</td>\n",
       "      <td>293.7838</td>\n",
       "      <td>False</td>\n",
       "      <td>116</td>\n",
       "      <td>40000000</td>\n",
       "      <td>44417000</td>\n",
       "      <td>['Jason Statham', 'David Harbour', 'Michael Pe...</td>\n",
       "      <td>David Ayer</td>\n",
       "      <td>['based on novel or book', 'kidnapping', 'vigi...</td>\n",
       "      <td>https://image.tmdb.org/t/p/w500/6FRFIogh3zFnVW...</td>\n",
       "    </tr>\n",
       "    <tr>\n",
       "      <th>4</th>\n",
       "      <td>1252309</td>\n",
       "      <td>Ask Me What You Want</td>\n",
       "      <td>After his father's death, Eric Zimmerman trave...</td>\n",
       "      <td>['Romance', 'Drama']</td>\n",
       "      <td>5.681</td>\n",
       "      <td>119</td>\n",
       "      <td>2024-11-29</td>\n",
       "      <td>es</td>\n",
       "      <td>286.5930</td>\n",
       "      <td>False</td>\n",
       "      <td>0</td>\n",
       "      <td>0</td>\n",
       "      <td>0</td>\n",
       "      <td>['Gabriela Andrada', 'Mario Ermito', 'Celia Fr...</td>\n",
       "      <td>Lucía Alemany</td>\n",
       "      <td>['spain', 'based on novel or book', 'woman dir...</td>\n",
       "      <td>https://image.tmdb.org/t/p/w500/76qnVxU2rPdVvi...</td>\n",
       "    </tr>\n",
       "  </tbody>\n",
       "</table>\n",
       "</div>"
      ],
      "text/plain": [
       "        id                             title  \\\n",
       "0   950387                 A Minecraft Movie   \n",
       "1  1125899                           Cleaner   \n",
       "2   822119  Captain America: Brave New World   \n",
       "3  1197306                     A Working Man   \n",
       "4  1252309              Ask Me What You Want   \n",
       "\n",
       "                                            overview  \\\n",
       "0  Four misfits find themselves struggling with o...   \n",
       "1  When a group of radical activists take over an...   \n",
       "2  After meeting with newly elected U.S. Presiden...   \n",
       "3  Levon Cade left behind a decorated military ca...   \n",
       "4  After his father's death, Eric Zimmerman trave...   \n",
       "\n",
       "                                         genres  vote_average  vote_count  \\\n",
       "0  ['Family', 'Comedy', 'Adventure', 'Fantasy']         6.100         295   \n",
       "1                        ['Action', 'Thriller']         6.517         174   \n",
       "2     ['Action', 'Thriller', 'Science Fiction']         6.091        1232   \n",
       "3               ['Action', 'Crime', 'Thriller']         6.467         151   \n",
       "4                          ['Romance', 'Drama']         5.681         119   \n",
       "\n",
       "  release_date original_language  popularity  adult  runtime     budget  \\\n",
       "0   2025-03-31                en   1022.7906  False      101  150000000   \n",
       "1   2025-02-19                en    343.3057  False       96          0   \n",
       "2   2025-02-12                en    339.0809  False      119  180000000   \n",
       "3   2025-03-26                en    293.7838  False      116   40000000   \n",
       "4   2024-11-29                es    286.5930  False        0          0   \n",
       "\n",
       "     revenue                                               cast  \\\n",
       "0  313453003  ['Jason Momoa', 'Jack Black', 'Sebastian Eugen...   \n",
       "1          0  ['Daisy Ridley', 'Clive Owen', 'Taz Skylar', '...   \n",
       "2  411409721  ['Anthony Mackie', 'Harrison Ford', 'Danny Ram...   \n",
       "3   44417000  ['Jason Statham', 'David Harbour', 'Michael Pe...   \n",
       "4          0  ['Gabriela Andrada', 'Mario Ermito', 'Celia Fr...   \n",
       "\n",
       "          director                                           keywords  \\\n",
       "0       Jared Hess  ['friendship', 'surrealism', 'exploration', 'p...   \n",
       "1  Martin Campbell                                                 []   \n",
       "2      Julius Onah  ['hero', 'superhero', 'revenge', 'aftercredits...   \n",
       "3       David Ayer  ['based on novel or book', 'kidnapping', 'vigi...   \n",
       "4    Lucía Alemany  ['spain', 'based on novel or book', 'woman dir...   \n",
       "\n",
       "                                          poster_url  \n",
       "0  https://image.tmdb.org/t/p/w500/yFHHfHcUgGAxzi...  \n",
       "1  https://image.tmdb.org/t/p/w500/mwzDApMZAGeYCE...  \n",
       "2  https://image.tmdb.org/t/p/w500/pzIddUEMWhWzfv...  \n",
       "3  https://image.tmdb.org/t/p/w500/6FRFIogh3zFnVW...  \n",
       "4  https://image.tmdb.org/t/p/w500/76qnVxU2rPdVvi...  "
      ]
     },
     "execution_count": 3,
     "metadata": {},
     "output_type": "execute_result"
    }
   ],
   "source": [
    "df.head(5)"
   ]
  },
  {
   "cell_type": "code",
   "execution_count": 4,
   "id": "37d414f4-142f-45bb-ab2b-fc7857201830",
   "metadata": {},
   "outputs": [
    {
     "data": {
      "text/plain": [
       "(5000, 17)"
      ]
     },
     "execution_count": 4,
     "metadata": {},
     "output_type": "execute_result"
    }
   ],
   "source": [
    "df.shape"
   ]
  },
  {
   "cell_type": "code",
   "execution_count": 5,
   "id": "851808e2-aec4-4947-bf6e-31476f586285",
   "metadata": {},
   "outputs": [
    {
     "data": {
      "text/plain": [
       "original_language\n",
       "en    4156\n",
       "ja     234\n",
       "fr     125\n",
       "ko      90\n",
       "es      83\n",
       "zh      51\n",
       "it      45\n",
       "cn      39\n",
       "de      35\n",
       "hi      27\n",
       "ru      20\n",
       "sv      13\n",
       "pt      10\n",
       "no      10\n",
       "th       9\n",
       "da       8\n",
       "pl       7\n",
       "te       6\n",
       "id       6\n",
       "ta       3\n",
       "tr       3\n",
       "uk       3\n",
       "nl       2\n",
       "kn       2\n",
       "ar       2\n",
       "ca       1\n",
       "ga       1\n",
       "mn       1\n",
       "sr       1\n",
       "el       1\n",
       "lt       1\n",
       "bn       1\n",
       "tl       1\n",
       "fi       1\n",
       "lv       1\n",
       "fa       1\n",
       "Name: count, dtype: int64"
      ]
     },
     "execution_count": 5,
     "metadata": {},
     "output_type": "execute_result"
    }
   ],
   "source": [
    "df['original_language'].value_counts()"
   ]
  },
  {
   "cell_type": "code",
   "execution_count": 6,
   "id": "76e60535-3a9b-4b9e-aa85-680fd06a98cc",
   "metadata": {},
   "outputs": [
    {
     "data": {
      "text/plain": [
       "title\n",
       "The Killer                     4\n",
       "Pinocchio                      3\n",
       "Robin Hood                     3\n",
       "Prey                           3\n",
       "Close                          3\n",
       "                              ..\n",
       "The Sword in the Stone         1\n",
       "Forever My Girl                1\n",
       "Resident Evil: Death Island    1\n",
       "Samaritan                      1\n",
       "Unfriended: Dark Web           1\n",
       "Name: count, Length: 4797, dtype: int64"
      ]
     },
     "execution_count": 6,
     "metadata": {},
     "output_type": "execute_result"
    }
   ],
   "source": [
    "df['title'].value_counts()"
   ]
  },
  {
   "cell_type": "code",
   "execution_count": 7,
   "id": "010d2398-c3aa-443a-ab98-7c43d7fbdda1",
   "metadata": {},
   "outputs": [
    {
     "data": {
      "text/plain": [
       "Index(['id', 'title', 'overview', 'genres', 'vote_average', 'vote_count',\n",
       "       'release_date', 'original_language', 'popularity', 'adult', 'runtime',\n",
       "       'budget', 'revenue', 'cast', 'director', 'keywords', 'poster_url'],\n",
       "      dtype='object')"
      ]
     },
     "execution_count": 7,
     "metadata": {},
     "output_type": "execute_result"
    }
   ],
   "source": [
    "df.columns"
   ]
  },
  {
   "cell_type": "code",
   "execution_count": 8,
   "id": "caf17084-5652-49e3-97a3-48d84a80c634",
   "metadata": {},
   "outputs": [],
   "source": [
    "# selecting relevant columns for the recommender\n",
    "movies = df[['id','title','overview','genres','keywords','cast','director']]"
   ]
  },
  {
   "cell_type": "code",
   "execution_count": 9,
   "id": "74a6ca5b-9d06-48ef-8aae-4ea8db556888",
   "metadata": {},
   "outputs": [
    {
     "data": {
      "text/html": [
       "<div>\n",
       "<style scoped>\n",
       "    .dataframe tbody tr th:only-of-type {\n",
       "        vertical-align: middle;\n",
       "    }\n",
       "\n",
       "    .dataframe tbody tr th {\n",
       "        vertical-align: top;\n",
       "    }\n",
       "\n",
       "    .dataframe thead th {\n",
       "        text-align: right;\n",
       "    }\n",
       "</style>\n",
       "<table border=\"1\" class=\"dataframe\">\n",
       "  <thead>\n",
       "    <tr style=\"text-align: right;\">\n",
       "      <th></th>\n",
       "      <th>id</th>\n",
       "      <th>title</th>\n",
       "      <th>overview</th>\n",
       "      <th>genres</th>\n",
       "      <th>keywords</th>\n",
       "      <th>cast</th>\n",
       "      <th>director</th>\n",
       "    </tr>\n",
       "  </thead>\n",
       "  <tbody>\n",
       "    <tr>\n",
       "      <th>0</th>\n",
       "      <td>950387</td>\n",
       "      <td>A Minecraft Movie</td>\n",
       "      <td>Four misfits find themselves struggling with o...</td>\n",
       "      <td>['Family', 'Comedy', 'Adventure', 'Fantasy']</td>\n",
       "      <td>['friendship', 'surrealism', 'exploration', 'p...</td>\n",
       "      <td>['Jason Momoa', 'Jack Black', 'Sebastian Eugen...</td>\n",
       "      <td>Jared Hess</td>\n",
       "    </tr>\n",
       "    <tr>\n",
       "      <th>1</th>\n",
       "      <td>1125899</td>\n",
       "      <td>Cleaner</td>\n",
       "      <td>When a group of radical activists take over an...</td>\n",
       "      <td>['Action', 'Thriller']</td>\n",
       "      <td>[]</td>\n",
       "      <td>['Daisy Ridley', 'Clive Owen', 'Taz Skylar', '...</td>\n",
       "      <td>Martin Campbell</td>\n",
       "    </tr>\n",
       "    <tr>\n",
       "      <th>2</th>\n",
       "      <td>822119</td>\n",
       "      <td>Captain America: Brave New World</td>\n",
       "      <td>After meeting with newly elected U.S. Presiden...</td>\n",
       "      <td>['Action', 'Thriller', 'Science Fiction']</td>\n",
       "      <td>['hero', 'superhero', 'revenge', 'aftercredits...</td>\n",
       "      <td>['Anthony Mackie', 'Harrison Ford', 'Danny Ram...</td>\n",
       "      <td>Julius Onah</td>\n",
       "    </tr>\n",
       "    <tr>\n",
       "      <th>3</th>\n",
       "      <td>1197306</td>\n",
       "      <td>A Working Man</td>\n",
       "      <td>Levon Cade left behind a decorated military ca...</td>\n",
       "      <td>['Action', 'Crime', 'Thriller']</td>\n",
       "      <td>['based on novel or book', 'kidnapping', 'vigi...</td>\n",
       "      <td>['Jason Statham', 'David Harbour', 'Michael Pe...</td>\n",
       "      <td>David Ayer</td>\n",
       "    </tr>\n",
       "    <tr>\n",
       "      <th>4</th>\n",
       "      <td>1252309</td>\n",
       "      <td>Ask Me What You Want</td>\n",
       "      <td>After his father's death, Eric Zimmerman trave...</td>\n",
       "      <td>['Romance', 'Drama']</td>\n",
       "      <td>['spain', 'based on novel or book', 'woman dir...</td>\n",
       "      <td>['Gabriela Andrada', 'Mario Ermito', 'Celia Fr...</td>\n",
       "      <td>Lucía Alemany</td>\n",
       "    </tr>\n",
       "  </tbody>\n",
       "</table>\n",
       "</div>"
      ],
      "text/plain": [
       "        id                             title  \\\n",
       "0   950387                 A Minecraft Movie   \n",
       "1  1125899                           Cleaner   \n",
       "2   822119  Captain America: Brave New World   \n",
       "3  1197306                     A Working Man   \n",
       "4  1252309              Ask Me What You Want   \n",
       "\n",
       "                                            overview  \\\n",
       "0  Four misfits find themselves struggling with o...   \n",
       "1  When a group of radical activists take over an...   \n",
       "2  After meeting with newly elected U.S. Presiden...   \n",
       "3  Levon Cade left behind a decorated military ca...   \n",
       "4  After his father's death, Eric Zimmerman trave...   \n",
       "\n",
       "                                         genres  \\\n",
       "0  ['Family', 'Comedy', 'Adventure', 'Fantasy']   \n",
       "1                        ['Action', 'Thriller']   \n",
       "2     ['Action', 'Thriller', 'Science Fiction']   \n",
       "3               ['Action', 'Crime', 'Thriller']   \n",
       "4                          ['Romance', 'Drama']   \n",
       "\n",
       "                                            keywords  \\\n",
       "0  ['friendship', 'surrealism', 'exploration', 'p...   \n",
       "1                                                 []   \n",
       "2  ['hero', 'superhero', 'revenge', 'aftercredits...   \n",
       "3  ['based on novel or book', 'kidnapping', 'vigi...   \n",
       "4  ['spain', 'based on novel or book', 'woman dir...   \n",
       "\n",
       "                                                cast         director  \n",
       "0  ['Jason Momoa', 'Jack Black', 'Sebastian Eugen...       Jared Hess  \n",
       "1  ['Daisy Ridley', 'Clive Owen', 'Taz Skylar', '...  Martin Campbell  \n",
       "2  ['Anthony Mackie', 'Harrison Ford', 'Danny Ram...      Julius Onah  \n",
       "3  ['Jason Statham', 'David Harbour', 'Michael Pe...       David Ayer  \n",
       "4  ['Gabriela Andrada', 'Mario Ermito', 'Celia Fr...    Lucía Alemany  "
      ]
     },
     "execution_count": 9,
     "metadata": {},
     "output_type": "execute_result"
    }
   ],
   "source": [
    "movies.head()"
   ]
  },
  {
   "cell_type": "code",
   "execution_count": 10,
   "id": "6c311636-f3ad-4aa3-bcfe-14abd3507caa",
   "metadata": {},
   "outputs": [
    {
     "data": {
      "text/plain": [
       "id          0\n",
       "title       0\n",
       "overview    0\n",
       "genres      0\n",
       "keywords    0\n",
       "cast        0\n",
       "director    3\n",
       "dtype: int64"
      ]
     },
     "execution_count": 10,
     "metadata": {},
     "output_type": "execute_result"
    }
   ],
   "source": [
    "# preprocess the dataset\n",
    "movies.isnull().sum()"
   ]
  },
  {
   "cell_type": "code",
   "execution_count": 11,
   "id": "e32cc193-8c05-4dd3-b0ce-ed8de8801c2d",
   "metadata": {},
   "outputs": [
    {
     "name": "stderr",
     "output_type": "stream",
     "text": [
      "/var/folders/yn/zzdysdkj6_z0rns53nqvdbvr0000gn/T/ipykernel_55325/3786870272.py:1: SettingWithCopyWarning: \n",
      "A value is trying to be set on a copy of a slice from a DataFrame\n",
      "\n",
      "See the caveats in the documentation: https://pandas.pydata.org/pandas-docs/stable/user_guide/indexing.html#returning-a-view-versus-a-copy\n",
      "  movies.dropna(inplace=True)\n"
     ]
    }
   ],
   "source": [
    "movies.dropna(inplace=True)"
   ]
  },
  {
   "cell_type": "code",
   "execution_count": 12,
   "id": "f520e8bd-a87f-4b6b-8d36-81e3254b6bb5",
   "metadata": {},
   "outputs": [
    {
     "data": {
      "text/plain": [
       "(4997, 7)"
      ]
     },
     "execution_count": 12,
     "metadata": {},
     "output_type": "execute_result"
    }
   ],
   "source": [
    "movies.shape"
   ]
  },
  {
   "cell_type": "code",
   "execution_count": 13,
   "id": "26b400c2-5b18-464c-aa8a-33bf254fc9eb",
   "metadata": {},
   "outputs": [
    {
     "data": {
      "text/plain": [
       "54"
      ]
     },
     "execution_count": 13,
     "metadata": {},
     "output_type": "execute_result"
    }
   ],
   "source": [
    "movies.duplicated().sum()"
   ]
  },
  {
   "cell_type": "code",
   "execution_count": 14,
   "id": "df69b09e-8ecd-403a-8491-5c0327709bc5",
   "metadata": {},
   "outputs": [
    {
     "name": "stdout",
     "output_type": "stream",
     "text": [
      "108 duplicated rows found:\n",
      "\n"
     ]
    },
    {
     "data": {
      "text/html": [
       "<div>\n",
       "<style scoped>\n",
       "    .dataframe tbody tr th:only-of-type {\n",
       "        vertical-align: middle;\n",
       "    }\n",
       "\n",
       "    .dataframe tbody tr th {\n",
       "        vertical-align: top;\n",
       "    }\n",
       "\n",
       "    .dataframe thead th {\n",
       "        text-align: right;\n",
       "    }\n",
       "</style>\n",
       "<table border=\"1\" class=\"dataframe\">\n",
       "  <thead>\n",
       "    <tr style=\"text-align: right;\">\n",
       "      <th></th>\n",
       "      <th>id</th>\n",
       "      <th>title</th>\n",
       "      <th>overview</th>\n",
       "      <th>genres</th>\n",
       "      <th>keywords</th>\n",
       "      <th>cast</th>\n",
       "      <th>director</th>\n",
       "    </tr>\n",
       "  </thead>\n",
       "  <tbody>\n",
       "    <tr>\n",
       "      <th>99</th>\n",
       "      <td>27205</td>\n",
       "      <td>Inception</td>\n",
       "      <td>Cobb, a skilled thief who commits corporate es...</td>\n",
       "      <td>['Action', 'Science Fiction', 'Adventure']</td>\n",
       "      <td>['rescue', 'mission', 'dreams', 'airplane', 'p...</td>\n",
       "      <td>['Leonardo DiCaprio', 'Joseph Gordon-Levitt', ...</td>\n",
       "      <td>Christopher Nolan</td>\n",
       "    </tr>\n",
       "    <tr>\n",
       "      <th>102</th>\n",
       "      <td>27205</td>\n",
       "      <td>Inception</td>\n",
       "      <td>Cobb, a skilled thief who commits corporate es...</td>\n",
       "      <td>['Action', 'Science Fiction', 'Adventure']</td>\n",
       "      <td>['rescue', 'mission', 'dreams', 'airplane', 'p...</td>\n",
       "      <td>['Leonardo DiCaprio', 'Joseph Gordon-Levitt', ...</td>\n",
       "      <td>Christopher Nolan</td>\n",
       "    </tr>\n",
       "    <tr>\n",
       "      <th>976</th>\n",
       "      <td>44833</td>\n",
       "      <td>Battleship</td>\n",
       "      <td>When mankind beams a radio signal into space, ...</td>\n",
       "      <td>['Thriller', 'Action', 'Adventure', 'Science F...</td>\n",
       "      <td>['fight', 'u.s. navy', 'mind reading', 'hong k...</td>\n",
       "      <td>['Taylor Kitsch', 'Alexander Skarsgård', 'Riha...</td>\n",
       "      <td>Peter Berg</td>\n",
       "    </tr>\n",
       "    <tr>\n",
       "      <th>1200</th>\n",
       "      <td>44833</td>\n",
       "      <td>Battleship</td>\n",
       "      <td>When mankind beams a radio signal into space, ...</td>\n",
       "      <td>['Thriller', 'Action', 'Adventure', 'Science F...</td>\n",
       "      <td>['fight', 'u.s. navy', 'mind reading', 'hong k...</td>\n",
       "      <td>['Taylor Kitsch', 'Alexander Skarsgård', 'Riha...</td>\n",
       "      <td>Peter Berg</td>\n",
       "    </tr>\n",
       "    <tr>\n",
       "      <th>975</th>\n",
       "      <td>62764</td>\n",
       "      <td>Mirror Mirror</td>\n",
       "      <td>After she spends all her money, an evil enchan...</td>\n",
       "      <td>['Adventure', 'Comedy', 'Family', 'Fantasy']</td>\n",
       "      <td>['fairy tale', 'villainess', 'attempted murder...</td>\n",
       "      <td>['Lily Collins', 'Julia Roberts', 'Armie Hamme...</td>\n",
       "      <td>Tarsem Singh</td>\n",
       "    </tr>\n",
       "    <tr>\n",
       "      <th>1078</th>\n",
       "      <td>62764</td>\n",
       "      <td>Mirror Mirror</td>\n",
       "      <td>After she spends all her money, an evil enchan...</td>\n",
       "      <td>['Adventure', 'Comedy', 'Family', 'Fantasy']</td>\n",
       "      <td>['fairy tale', 'villainess', 'attempted murder...</td>\n",
       "      <td>['Lily Collins', 'Julia Roberts', 'Armie Hamme...</td>\n",
       "      <td>Tarsem Singh</td>\n",
       "    </tr>\n",
       "    <tr>\n",
       "      <th>944</th>\n",
       "      <td>65754</td>\n",
       "      <td>The Girl with the Dragon Tattoo</td>\n",
       "      <td>Disgraced journalist Mikael Blomkvist investig...</td>\n",
       "      <td>['Thriller', 'Crime', 'Mystery']</td>\n",
       "      <td>['journalist', 'island', 'rape', 'hacker', 'ba...</td>\n",
       "      <td>['Daniel Craig', 'Rooney Mara', 'Christopher P...</td>\n",
       "      <td>David Fincher</td>\n",
       "    </tr>\n",
       "    <tr>\n",
       "      <th>1114</th>\n",
       "      <td>65754</td>\n",
       "      <td>The Girl with the Dragon Tattoo</td>\n",
       "      <td>Disgraced journalist Mikael Blomkvist investig...</td>\n",
       "      <td>['Thriller', 'Crime', 'Mystery']</td>\n",
       "      <td>['journalist', 'island', 'rape', 'hacker', 'ba...</td>\n",
       "      <td>['Daniel Craig', 'Rooney Mara', 'Christopher P...</td>\n",
       "      <td>David Fincher</td>\n",
       "    </tr>\n",
       "    <tr>\n",
       "      <th>911</th>\n",
       "      <td>72545</td>\n",
       "      <td>Journey 2: The Mysterious Island</td>\n",
       "      <td>Sean Anderson partners with his mom's boyfrien...</td>\n",
       "      <td>['Adventure', 'Action', 'Science Fiction']</td>\n",
       "      <td>['mission', 'giant lizard', 'missing person', ...</td>\n",
       "      <td>['Dwayne Johnson', 'Josh Hutcherson', 'Vanessa...</td>\n",
       "      <td>Brad Peyton</td>\n",
       "    </tr>\n",
       "    <tr>\n",
       "      <th>1187</th>\n",
       "      <td>72545</td>\n",
       "      <td>Journey 2: The Mysterious Island</td>\n",
       "      <td>Sean Anderson partners with his mom's boyfrien...</td>\n",
       "      <td>['Adventure', 'Action', 'Science Fiction']</td>\n",
       "      <td>['mission', 'giant lizard', 'missing person', ...</td>\n",
       "      <td>['Dwayne Johnson', 'Josh Hutcherson', 'Vanessa...</td>\n",
       "      <td>Brad Peyton</td>\n",
       "    </tr>\n",
       "  </tbody>\n",
       "</table>\n",
       "</div>"
      ],
      "text/plain": [
       "         id                             title  \\\n",
       "99    27205                         Inception   \n",
       "102   27205                         Inception   \n",
       "976   44833                        Battleship   \n",
       "1200  44833                        Battleship   \n",
       "975   62764                     Mirror Mirror   \n",
       "1078  62764                     Mirror Mirror   \n",
       "944   65754   The Girl with the Dragon Tattoo   \n",
       "1114  65754   The Girl with the Dragon Tattoo   \n",
       "911   72545  Journey 2: The Mysterious Island   \n",
       "1187  72545  Journey 2: The Mysterious Island   \n",
       "\n",
       "                                               overview  \\\n",
       "99    Cobb, a skilled thief who commits corporate es...   \n",
       "102   Cobb, a skilled thief who commits corporate es...   \n",
       "976   When mankind beams a radio signal into space, ...   \n",
       "1200  When mankind beams a radio signal into space, ...   \n",
       "975   After she spends all her money, an evil enchan...   \n",
       "1078  After she spends all her money, an evil enchan...   \n",
       "944   Disgraced journalist Mikael Blomkvist investig...   \n",
       "1114  Disgraced journalist Mikael Blomkvist investig...   \n",
       "911   Sean Anderson partners with his mom's boyfrien...   \n",
       "1187  Sean Anderson partners with his mom's boyfrien...   \n",
       "\n",
       "                                                 genres  \\\n",
       "99           ['Action', 'Science Fiction', 'Adventure']   \n",
       "102          ['Action', 'Science Fiction', 'Adventure']   \n",
       "976   ['Thriller', 'Action', 'Adventure', 'Science F...   \n",
       "1200  ['Thriller', 'Action', 'Adventure', 'Science F...   \n",
       "975        ['Adventure', 'Comedy', 'Family', 'Fantasy']   \n",
       "1078       ['Adventure', 'Comedy', 'Family', 'Fantasy']   \n",
       "944                    ['Thriller', 'Crime', 'Mystery']   \n",
       "1114                   ['Thriller', 'Crime', 'Mystery']   \n",
       "911          ['Adventure', 'Action', 'Science Fiction']   \n",
       "1187         ['Adventure', 'Action', 'Science Fiction']   \n",
       "\n",
       "                                               keywords  \\\n",
       "99    ['rescue', 'mission', 'dreams', 'airplane', 'p...   \n",
       "102   ['rescue', 'mission', 'dreams', 'airplane', 'p...   \n",
       "976   ['fight', 'u.s. navy', 'mind reading', 'hong k...   \n",
       "1200  ['fight', 'u.s. navy', 'mind reading', 'hong k...   \n",
       "975   ['fairy tale', 'villainess', 'attempted murder...   \n",
       "1078  ['fairy tale', 'villainess', 'attempted murder...   \n",
       "944   ['journalist', 'island', 'rape', 'hacker', 'ba...   \n",
       "1114  ['journalist', 'island', 'rape', 'hacker', 'ba...   \n",
       "911   ['mission', 'giant lizard', 'missing person', ...   \n",
       "1187  ['mission', 'giant lizard', 'missing person', ...   \n",
       "\n",
       "                                                   cast           director  \n",
       "99    ['Leonardo DiCaprio', 'Joseph Gordon-Levitt', ...  Christopher Nolan  \n",
       "102   ['Leonardo DiCaprio', 'Joseph Gordon-Levitt', ...  Christopher Nolan  \n",
       "976   ['Taylor Kitsch', 'Alexander Skarsgård', 'Riha...         Peter Berg  \n",
       "1200  ['Taylor Kitsch', 'Alexander Skarsgård', 'Riha...         Peter Berg  \n",
       "975   ['Lily Collins', 'Julia Roberts', 'Armie Hamme...       Tarsem Singh  \n",
       "1078  ['Lily Collins', 'Julia Roberts', 'Armie Hamme...       Tarsem Singh  \n",
       "944   ['Daniel Craig', 'Rooney Mara', 'Christopher P...      David Fincher  \n",
       "1114  ['Daniel Craig', 'Rooney Mara', 'Christopher P...      David Fincher  \n",
       "911   ['Dwayne Johnson', 'Josh Hutcherson', 'Vanessa...        Brad Peyton  \n",
       "1187  ['Dwayne Johnson', 'Josh Hutcherson', 'Vanessa...        Brad Peyton  "
      ]
     },
     "execution_count": 14,
     "metadata": {},
     "output_type": "execute_result"
    }
   ],
   "source": [
    "dupes = movies[movies.duplicated(keep=False)]\n",
    "print(f\"{len(dupes)} duplicated rows found:\\n\")\n",
    "dupes.sort_values(by=movies.columns.tolist()).head(10)"
   ]
  },
  {
   "cell_type": "code",
   "execution_count": 15,
   "id": "4f399b7d-a223-4d8e-befe-d05bb37135ee",
   "metadata": {},
   "outputs": [
    {
     "name": "stderr",
     "output_type": "stream",
     "text": [
      "/var/folders/yn/zzdysdkj6_z0rns53nqvdbvr0000gn/T/ipykernel_55325/3922030694.py:1: SettingWithCopyWarning: \n",
      "A value is trying to be set on a copy of a slice from a DataFrame\n",
      "\n",
      "See the caveats in the documentation: https://pandas.pydata.org/pandas-docs/stable/user_guide/indexing.html#returning-a-view-versus-a-copy\n",
      "  movies.drop_duplicates(inplace=True)\n"
     ]
    },
    {
     "data": {
      "text/plain": [
       "(4943, 7)"
      ]
     },
     "execution_count": 15,
     "metadata": {},
     "output_type": "execute_result"
    }
   ],
   "source": [
    "movies.drop_duplicates(inplace=True)\n",
    "movies.shape"
   ]
  },
  {
   "cell_type": "code",
   "execution_count": 16,
   "id": "ea5a11a3-cf92-49aa-8934-6894299da80d",
   "metadata": {},
   "outputs": [
    {
     "data": {
      "text/plain": [
       "0"
      ]
     },
     "execution_count": 16,
     "metadata": {},
     "output_type": "execute_result"
    }
   ],
   "source": [
    "movies.duplicated().sum()"
   ]
  },
  {
   "cell_type": "code",
   "execution_count": 17,
   "id": "595dc582-ef0e-48f5-9635-c53b6f355ec1",
   "metadata": {},
   "outputs": [
    {
     "data": {
      "text/plain": [
       "\"['Family', 'Comedy', 'Adventure', 'Fantasy']\""
      ]
     },
     "execution_count": 17,
     "metadata": {},
     "output_type": "execute_result"
    }
   ],
   "source": [
    "movies.iloc[0]['genres']"
   ]
  },
  {
   "cell_type": "code",
   "execution_count": 18,
   "id": "f29dd49b-bf67-420a-ac96-58cfc6a8ba30",
   "metadata": {},
   "outputs": [
    {
     "data": {
      "text/plain": [
       "str"
      ]
     },
     "execution_count": 18,
     "metadata": {},
     "output_type": "execute_result"
    }
   ],
   "source": [
    "type(movies.iloc[0]['genres'])"
   ]
  },
  {
   "cell_type": "code",
   "execution_count": 19,
   "id": "78680596-fc89-43e3-8639-88b784c984c1",
   "metadata": {},
   "outputs": [],
   "source": [
    "# convert to list, get the value (literal_eval)\n",
    "import ast\n",
    "\n",
    "# Make a clean copy to avoid SettingWithCopyWarning\n",
    "movies = movies.copy()\n",
    "\n",
    "# Define the columns to convert from string to list\n",
    "columns_to_convert = ['genres', 'keywords', 'cast']\n",
    "\n",
    "# Apply ast.literal_eval to each specified column\n",
    "for col in columns_to_convert:\n",
    "    movies[col] = movies[col].apply(ast.literal_eval)"
   ]
  },
  {
   "cell_type": "code",
   "execution_count": 20,
   "id": "0cf81167-1253-4368-957f-7cb5439b318f",
   "metadata": {},
   "outputs": [
    {
     "data": {
      "text/html": [
       "<div>\n",
       "<style scoped>\n",
       "    .dataframe tbody tr th:only-of-type {\n",
       "        vertical-align: middle;\n",
       "    }\n",
       "\n",
       "    .dataframe tbody tr th {\n",
       "        vertical-align: top;\n",
       "    }\n",
       "\n",
       "    .dataframe thead th {\n",
       "        text-align: right;\n",
       "    }\n",
       "</style>\n",
       "<table border=\"1\" class=\"dataframe\">\n",
       "  <thead>\n",
       "    <tr style=\"text-align: right;\">\n",
       "      <th></th>\n",
       "      <th>id</th>\n",
       "      <th>title</th>\n",
       "      <th>overview</th>\n",
       "      <th>genres</th>\n",
       "      <th>keywords</th>\n",
       "      <th>cast</th>\n",
       "      <th>director</th>\n",
       "    </tr>\n",
       "  </thead>\n",
       "  <tbody>\n",
       "    <tr>\n",
       "      <th>0</th>\n",
       "      <td>950387</td>\n",
       "      <td>A Minecraft Movie</td>\n",
       "      <td>Four misfits find themselves struggling with o...</td>\n",
       "      <td>[Family, Comedy, Adventure, Fantasy]</td>\n",
       "      <td>[friendship, surrealism, exploration, portal, ...</td>\n",
       "      <td>[Jason Momoa, Jack Black, Sebastian Eugene Han...</td>\n",
       "      <td>Jared Hess</td>\n",
       "    </tr>\n",
       "    <tr>\n",
       "      <th>1</th>\n",
       "      <td>1125899</td>\n",
       "      <td>Cleaner</td>\n",
       "      <td>When a group of radical activists take over an...</td>\n",
       "      <td>[Action, Thriller]</td>\n",
       "      <td>[]</td>\n",
       "      <td>[Daisy Ridley, Clive Owen, Taz Skylar, Flavia ...</td>\n",
       "      <td>Martin Campbell</td>\n",
       "    </tr>\n",
       "    <tr>\n",
       "      <th>2</th>\n",
       "      <td>822119</td>\n",
       "      <td>Captain America: Brave New World</td>\n",
       "      <td>After meeting with newly elected U.S. Presiden...</td>\n",
       "      <td>[Action, Thriller, Science Fiction]</td>\n",
       "      <td>[hero, superhero, revenge, aftercreditsstinger...</td>\n",
       "      <td>[Anthony Mackie, Harrison Ford, Danny Ramirez,...</td>\n",
       "      <td>Julius Onah</td>\n",
       "    </tr>\n",
       "    <tr>\n",
       "      <th>3</th>\n",
       "      <td>1197306</td>\n",
       "      <td>A Working Man</td>\n",
       "      <td>Levon Cade left behind a decorated military ca...</td>\n",
       "      <td>[Action, Crime, Thriller]</td>\n",
       "      <td>[based on novel or book, kidnapping, vigilante...</td>\n",
       "      <td>[Jason Statham, David Harbour, Michael Peña, J...</td>\n",
       "      <td>David Ayer</td>\n",
       "    </tr>\n",
       "    <tr>\n",
       "      <th>4</th>\n",
       "      <td>1252309</td>\n",
       "      <td>Ask Me What You Want</td>\n",
       "      <td>After his father's death, Eric Zimmerman trave...</td>\n",
       "      <td>[Romance, Drama]</td>\n",
       "      <td>[spain, based on novel or book, woman director...</td>\n",
       "      <td>[Gabriela Andrada, Mario Ermito, Celia Freijei...</td>\n",
       "      <td>Lucía Alemany</td>\n",
       "    </tr>\n",
       "  </tbody>\n",
       "</table>\n",
       "</div>"
      ],
      "text/plain": [
       "        id                             title  \\\n",
       "0   950387                 A Minecraft Movie   \n",
       "1  1125899                           Cleaner   \n",
       "2   822119  Captain America: Brave New World   \n",
       "3  1197306                     A Working Man   \n",
       "4  1252309              Ask Me What You Want   \n",
       "\n",
       "                                            overview  \\\n",
       "0  Four misfits find themselves struggling with o...   \n",
       "1  When a group of radical activists take over an...   \n",
       "2  After meeting with newly elected U.S. Presiden...   \n",
       "3  Levon Cade left behind a decorated military ca...   \n",
       "4  After his father's death, Eric Zimmerman trave...   \n",
       "\n",
       "                                 genres  \\\n",
       "0  [Family, Comedy, Adventure, Fantasy]   \n",
       "1                    [Action, Thriller]   \n",
       "2   [Action, Thriller, Science Fiction]   \n",
       "3             [Action, Crime, Thriller]   \n",
       "4                      [Romance, Drama]   \n",
       "\n",
       "                                            keywords  \\\n",
       "0  [friendship, surrealism, exploration, portal, ...   \n",
       "1                                                 []   \n",
       "2  [hero, superhero, revenge, aftercreditsstinger...   \n",
       "3  [based on novel or book, kidnapping, vigilante...   \n",
       "4  [spain, based on novel or book, woman director...   \n",
       "\n",
       "                                                cast         director  \n",
       "0  [Jason Momoa, Jack Black, Sebastian Eugene Han...       Jared Hess  \n",
       "1  [Daisy Ridley, Clive Owen, Taz Skylar, Flavia ...  Martin Campbell  \n",
       "2  [Anthony Mackie, Harrison Ford, Danny Ramirez,...      Julius Onah  \n",
       "3  [Jason Statham, David Harbour, Michael Peña, J...       David Ayer  \n",
       "4  [Gabriela Andrada, Mario Ermito, Celia Freijei...    Lucía Alemany  "
      ]
     },
     "execution_count": 20,
     "metadata": {},
     "output_type": "execute_result"
    }
   ],
   "source": [
    "movies.head()"
   ]
  },
  {
   "cell_type": "code",
   "execution_count": 44,
   "id": "62ec9453-a7dc-41e5-90a4-af1d28142855",
   "metadata": {},
   "outputs": [
    {
     "data": {
      "text/plain": [
       "['friendship',\n",
       " 'surrealism',\n",
       " 'exploration',\n",
       " 'portal',\n",
       " 'miner',\n",
       " 'friends',\n",
       " 'survival',\n",
       " 'zombie',\n",
       " 'based on video game',\n",
       " 'aftercreditsstinger',\n",
       " 'duringcreditsstinger',\n",
       " 'journey',\n",
       " 'imagination',\n",
       " 'teamwork',\n",
       " 'fantasy',\n",
       " 'embarrassed',\n",
       " 'building']"
      ]
     },
     "execution_count": 44,
     "metadata": {},
     "output_type": "execute_result"
    }
   ],
   "source": [
    "movies.iloc[0]['keywords']"
   ]
  },
  {
   "cell_type": "code",
   "execution_count": 46,
   "id": "3fe76969-9edc-4cec-921b-a4e40bd586b6",
   "metadata": {},
   "outputs": [
    {
     "data": {
      "text/plain": [
       "\"Four misfits find themselves struggling with ordinary problems when they are suddenly pulled through a mysterious portal into the Overworld: a bizarre, cubic wonderland that thrives on imagination. To get back home, they'll have to master this world while embarking on a magical quest with an unexpected, expert crafter, Steve.\""
      ]
     },
     "execution_count": 46,
     "metadata": {},
     "output_type": "execute_result"
    }
   ],
   "source": [
    "movies.iloc[0]['overview']"
   ]
  },
  {
   "cell_type": "code",
   "execution_count": 48,
   "id": "e40f53ce-fca9-48bd-bb41-92292867eca8",
   "metadata": {},
   "outputs": [
    {
     "data": {
      "text/plain": [
       "['four',\n",
       " 'misfits',\n",
       " 'find',\n",
       " 'themselves',\n",
       " 'struggling',\n",
       " 'with',\n",
       " 'ordinary',\n",
       " 'problems',\n",
       " 'when',\n",
       " 'they',\n",
       " 'are',\n",
       " 'suddenly',\n",
       " 'pulled',\n",
       " 'through',\n",
       " 'a',\n",
       " 'mysterious',\n",
       " 'portal',\n",
       " 'into',\n",
       " 'the',\n",
       " 'overworld:',\n",
       " 'a',\n",
       " 'bizarre,',\n",
       " 'cubic',\n",
       " 'wonderland',\n",
       " 'that',\n",
       " 'thrives',\n",
       " 'on',\n",
       " 'imagination.',\n",
       " 'to',\n",
       " 'get',\n",
       " 'back',\n",
       " 'home,',\n",
       " \"they'll\",\n",
       " 'have',\n",
       " 'to',\n",
       " 'master',\n",
       " 'this',\n",
       " 'world',\n",
       " 'while',\n",
       " 'embarking',\n",
       " 'on',\n",
       " 'a',\n",
       " 'magical',\n",
       " 'quest',\n",
       " 'with',\n",
       " 'an',\n",
       " 'unexpected,',\n",
       " 'expert',\n",
       " 'crafter,',\n",
       " 'steve.']"
      ]
     },
     "execution_count": 48,
     "metadata": {},
     "output_type": "execute_result"
    }
   ],
   "source": [
    "# vectorize the text — and splitting it into words\n",
    "movies['overview'] = movies['overview'].apply(lambda x: x.lower().split())\n",
    "movies.iloc[0]['overview']"
   ]
  },
  {
   "cell_type": "code",
   "execution_count": 50,
   "id": "1edc4829-d684-48cc-bd7f-5ea56922088b",
   "metadata": {},
   "outputs": [],
   "source": [
    "# names stay as one token instead of being split into meaningless pieces \n",
    "movies['cast'] = movies['cast'].apply(lambda x: [i.replace(\" \", \"_\") for i in x])\n",
    "movies['director'] = movies['director'].apply(lambda x: x.replace(\" \", \"_\"))"
   ]
  },
  {
   "cell_type": "code",
   "execution_count": 54,
   "id": "c8597e6d-7b83-49cc-acc9-b1cd5e8c7fc2",
   "metadata": {},
   "outputs": [],
   "source": [
    "movies['genres'] = movies['genres'].apply(lambda x: [i.replace(\" \", \"_\") for i in x])\n",
    "movies['keywords'] = movies['keywords'].apply(lambda x: [i.replace(\" \", \"_\") for i in x])"
   ]
  },
  {
   "cell_type": "code",
   "execution_count": 56,
   "id": "017e203b-6924-4b95-9310-5134adf49239",
   "metadata": {},
   "outputs": [
    {
     "data": {
      "text/html": [
       "<div>\n",
       "<style scoped>\n",
       "    .dataframe tbody tr th:only-of-type {\n",
       "        vertical-align: middle;\n",
       "    }\n",
       "\n",
       "    .dataframe tbody tr th {\n",
       "        vertical-align: top;\n",
       "    }\n",
       "\n",
       "    .dataframe thead th {\n",
       "        text-align: right;\n",
       "    }\n",
       "</style>\n",
       "<table border=\"1\" class=\"dataframe\">\n",
       "  <thead>\n",
       "    <tr style=\"text-align: right;\">\n",
       "      <th></th>\n",
       "      <th>id</th>\n",
       "      <th>title</th>\n",
       "      <th>overview</th>\n",
       "      <th>genres</th>\n",
       "      <th>keywords</th>\n",
       "      <th>cast</th>\n",
       "      <th>director</th>\n",
       "    </tr>\n",
       "  </thead>\n",
       "  <tbody>\n",
       "    <tr>\n",
       "      <th>0</th>\n",
       "      <td>950387</td>\n",
       "      <td>A Minecraft Movie</td>\n",
       "      <td>[four, misfits, find, themselves, struggling, ...</td>\n",
       "      <td>[Family, Comedy, Adventure, Fantasy]</td>\n",
       "      <td>[friendship, surrealism, exploration, portal, ...</td>\n",
       "      <td>[Jason_Momoa, Jack_Black, Sebastian_Eugene_Han...</td>\n",
       "      <td>Jared_Hess</td>\n",
       "    </tr>\n",
       "    <tr>\n",
       "      <th>1</th>\n",
       "      <td>1125899</td>\n",
       "      <td>Cleaner</td>\n",
       "      <td>[when, a, group, of, radical, activists, take,...</td>\n",
       "      <td>[Action, Thriller]</td>\n",
       "      <td>[]</td>\n",
       "      <td>[Daisy_Ridley, Clive_Owen, Taz_Skylar, Flavia_...</td>\n",
       "      <td>Martin_Campbell</td>\n",
       "    </tr>\n",
       "    <tr>\n",
       "      <th>2</th>\n",
       "      <td>822119</td>\n",
       "      <td>Captain America: Brave New World</td>\n",
       "      <td>[after, meeting, with, newly, elected, u.s., p...</td>\n",
       "      <td>[Action, Thriller, Science_Fiction]</td>\n",
       "      <td>[hero, superhero, revenge, aftercreditsstinger...</td>\n",
       "      <td>[Anthony_Mackie, Harrison_Ford, Danny_Ramirez,...</td>\n",
       "      <td>Julius_Onah</td>\n",
       "    </tr>\n",
       "    <tr>\n",
       "      <th>3</th>\n",
       "      <td>1197306</td>\n",
       "      <td>A Working Man</td>\n",
       "      <td>[levon, cade, left, behind, a, decorated, mili...</td>\n",
       "      <td>[Action, Crime, Thriller]</td>\n",
       "      <td>[based_on_novel_or_book, kidnapping, vigilante...</td>\n",
       "      <td>[Jason_Statham, David_Harbour, Michael_Peña, J...</td>\n",
       "      <td>David_Ayer</td>\n",
       "    </tr>\n",
       "    <tr>\n",
       "      <th>4</th>\n",
       "      <td>1252309</td>\n",
       "      <td>Ask Me What You Want</td>\n",
       "      <td>[after, his, father's, death,, eric, zimmerman...</td>\n",
       "      <td>[Romance, Drama]</td>\n",
       "      <td>[spain, based_on_novel_or_book, woman_director...</td>\n",
       "      <td>[Gabriela_Andrada, Mario_Ermito, Celia_Freijei...</td>\n",
       "      <td>Lucía_Alemany</td>\n",
       "    </tr>\n",
       "  </tbody>\n",
       "</table>\n",
       "</div>"
      ],
      "text/plain": [
       "        id                             title  \\\n",
       "0   950387                 A Minecraft Movie   \n",
       "1  1125899                           Cleaner   \n",
       "2   822119  Captain America: Brave New World   \n",
       "3  1197306                     A Working Man   \n",
       "4  1252309              Ask Me What You Want   \n",
       "\n",
       "                                            overview  \\\n",
       "0  [four, misfits, find, themselves, struggling, ...   \n",
       "1  [when, a, group, of, radical, activists, take,...   \n",
       "2  [after, meeting, with, newly, elected, u.s., p...   \n",
       "3  [levon, cade, left, behind, a, decorated, mili...   \n",
       "4  [after, his, father's, death,, eric, zimmerman...   \n",
       "\n",
       "                                 genres  \\\n",
       "0  [Family, Comedy, Adventure, Fantasy]   \n",
       "1                    [Action, Thriller]   \n",
       "2   [Action, Thriller, Science_Fiction]   \n",
       "3             [Action, Crime, Thriller]   \n",
       "4                      [Romance, Drama]   \n",
       "\n",
       "                                            keywords  \\\n",
       "0  [friendship, surrealism, exploration, portal, ...   \n",
       "1                                                 []   \n",
       "2  [hero, superhero, revenge, aftercreditsstinger...   \n",
       "3  [based_on_novel_or_book, kidnapping, vigilante...   \n",
       "4  [spain, based_on_novel_or_book, woman_director...   \n",
       "\n",
       "                                                cast         director  \n",
       "0  [Jason_Momoa, Jack_Black, Sebastian_Eugene_Han...       Jared_Hess  \n",
       "1  [Daisy_Ridley, Clive_Owen, Taz_Skylar, Flavia_...  Martin_Campbell  \n",
       "2  [Anthony_Mackie, Harrison_Ford, Danny_Ramirez,...      Julius_Onah  \n",
       "3  [Jason_Statham, David_Harbour, Michael_Peña, J...       David_Ayer  \n",
       "4  [Gabriela_Andrada, Mario_Ermito, Celia_Freijei...    Lucía_Alemany  "
      ]
     },
     "execution_count": 56,
     "metadata": {},
     "output_type": "execute_result"
    }
   ],
   "source": [
    "movies.head()"
   ]
  },
  {
   "cell_type": "code",
   "execution_count": 58,
   "id": "9f51cefb-e02e-4648-b922-99db1ba03aaa",
   "metadata": {},
   "outputs": [],
   "source": [
    "# combine all relevant textual info into one single string -> tag\n",
    "def combine_tags(row):\n",
    "    return ' '.join(row['overview']) + ' ' + \\\n",
    "           ' '.join(row['genres']) + ' ' + \\\n",
    "           ' '.join(row['keywords']) + ' ' + \\\n",
    "           ' '.join(row['cast']) + ' ' + \\\n",
    "           row['director']\n",
    "\n",
    "movies['tag'] = movies.apply(combine_tags, axis=1)\n",
    "movies['tag'] = movies['tag'].apply(lambda x: x.lower())"
   ]
  },
  {
   "cell_type": "code",
   "execution_count": 60,
   "id": "33b40625-8b72-4b88-b468-c6e1c9cde942",
   "metadata": {},
   "outputs": [
    {
     "data": {
      "text/html": [
       "<div>\n",
       "<style scoped>\n",
       "    .dataframe tbody tr th:only-of-type {\n",
       "        vertical-align: middle;\n",
       "    }\n",
       "\n",
       "    .dataframe tbody tr th {\n",
       "        vertical-align: top;\n",
       "    }\n",
       "\n",
       "    .dataframe thead th {\n",
       "        text-align: right;\n",
       "    }\n",
       "</style>\n",
       "<table border=\"1\" class=\"dataframe\">\n",
       "  <thead>\n",
       "    <tr style=\"text-align: right;\">\n",
       "      <th></th>\n",
       "      <th>id</th>\n",
       "      <th>title</th>\n",
       "      <th>overview</th>\n",
       "      <th>genres</th>\n",
       "      <th>keywords</th>\n",
       "      <th>cast</th>\n",
       "      <th>director</th>\n",
       "      <th>tag</th>\n",
       "    </tr>\n",
       "  </thead>\n",
       "  <tbody>\n",
       "    <tr>\n",
       "      <th>0</th>\n",
       "      <td>950387</td>\n",
       "      <td>A Minecraft Movie</td>\n",
       "      <td>[four, misfits, find, themselves, struggling, ...</td>\n",
       "      <td>[Family, Comedy, Adventure, Fantasy]</td>\n",
       "      <td>[friendship, surrealism, exploration, portal, ...</td>\n",
       "      <td>[Jason_Momoa, Jack_Black, Sebastian_Eugene_Han...</td>\n",
       "      <td>Jared_Hess</td>\n",
       "      <td>four misfits find themselves struggling with o...</td>\n",
       "    </tr>\n",
       "    <tr>\n",
       "      <th>1</th>\n",
       "      <td>1125899</td>\n",
       "      <td>Cleaner</td>\n",
       "      <td>[when, a, group, of, radical, activists, take,...</td>\n",
       "      <td>[Action, Thriller]</td>\n",
       "      <td>[]</td>\n",
       "      <td>[Daisy_Ridley, Clive_Owen, Taz_Skylar, Flavia_...</td>\n",
       "      <td>Martin_Campbell</td>\n",
       "      <td>when a group of radical activists take over an...</td>\n",
       "    </tr>\n",
       "    <tr>\n",
       "      <th>2</th>\n",
       "      <td>822119</td>\n",
       "      <td>Captain America: Brave New World</td>\n",
       "      <td>[after, meeting, with, newly, elected, u.s., p...</td>\n",
       "      <td>[Action, Thriller, Science_Fiction]</td>\n",
       "      <td>[hero, superhero, revenge, aftercreditsstinger...</td>\n",
       "      <td>[Anthony_Mackie, Harrison_Ford, Danny_Ramirez,...</td>\n",
       "      <td>Julius_Onah</td>\n",
       "      <td>after meeting with newly elected u.s. presiden...</td>\n",
       "    </tr>\n",
       "    <tr>\n",
       "      <th>3</th>\n",
       "      <td>1197306</td>\n",
       "      <td>A Working Man</td>\n",
       "      <td>[levon, cade, left, behind, a, decorated, mili...</td>\n",
       "      <td>[Action, Crime, Thriller]</td>\n",
       "      <td>[based_on_novel_or_book, kidnapping, vigilante...</td>\n",
       "      <td>[Jason_Statham, David_Harbour, Michael_Peña, J...</td>\n",
       "      <td>David_Ayer</td>\n",
       "      <td>levon cade left behind a decorated military ca...</td>\n",
       "    </tr>\n",
       "    <tr>\n",
       "      <th>4</th>\n",
       "      <td>1252309</td>\n",
       "      <td>Ask Me What You Want</td>\n",
       "      <td>[after, his, father's, death,, eric, zimmerman...</td>\n",
       "      <td>[Romance, Drama]</td>\n",
       "      <td>[spain, based_on_novel_or_book, woman_director...</td>\n",
       "      <td>[Gabriela_Andrada, Mario_Ermito, Celia_Freijei...</td>\n",
       "      <td>Lucía_Alemany</td>\n",
       "      <td>after his father's death, eric zimmerman trave...</td>\n",
       "    </tr>\n",
       "  </tbody>\n",
       "</table>\n",
       "</div>"
      ],
      "text/plain": [
       "        id                             title  \\\n",
       "0   950387                 A Minecraft Movie   \n",
       "1  1125899                           Cleaner   \n",
       "2   822119  Captain America: Brave New World   \n",
       "3  1197306                     A Working Man   \n",
       "4  1252309              Ask Me What You Want   \n",
       "\n",
       "                                            overview  \\\n",
       "0  [four, misfits, find, themselves, struggling, ...   \n",
       "1  [when, a, group, of, radical, activists, take,...   \n",
       "2  [after, meeting, with, newly, elected, u.s., p...   \n",
       "3  [levon, cade, left, behind, a, decorated, mili...   \n",
       "4  [after, his, father's, death,, eric, zimmerman...   \n",
       "\n",
       "                                 genres  \\\n",
       "0  [Family, Comedy, Adventure, Fantasy]   \n",
       "1                    [Action, Thriller]   \n",
       "2   [Action, Thriller, Science_Fiction]   \n",
       "3             [Action, Crime, Thriller]   \n",
       "4                      [Romance, Drama]   \n",
       "\n",
       "                                            keywords  \\\n",
       "0  [friendship, surrealism, exploration, portal, ...   \n",
       "1                                                 []   \n",
       "2  [hero, superhero, revenge, aftercreditsstinger...   \n",
       "3  [based_on_novel_or_book, kidnapping, vigilante...   \n",
       "4  [spain, based_on_novel_or_book, woman_director...   \n",
       "\n",
       "                                                cast         director  \\\n",
       "0  [Jason_Momoa, Jack_Black, Sebastian_Eugene_Han...       Jared_Hess   \n",
       "1  [Daisy_Ridley, Clive_Owen, Taz_Skylar, Flavia_...  Martin_Campbell   \n",
       "2  [Anthony_Mackie, Harrison_Ford, Danny_Ramirez,...      Julius_Onah   \n",
       "3  [Jason_Statham, David_Harbour, Michael_Peña, J...       David_Ayer   \n",
       "4  [Gabriela_Andrada, Mario_Ermito, Celia_Freijei...    Lucía_Alemany   \n",
       "\n",
       "                                                 tag  \n",
       "0  four misfits find themselves struggling with o...  \n",
       "1  when a group of radical activists take over an...  \n",
       "2  after meeting with newly elected u.s. presiden...  \n",
       "3  levon cade left behind a decorated military ca...  \n",
       "4  after his father's death, eric zimmerman trave...  "
      ]
     },
     "execution_count": 60,
     "metadata": {},
     "output_type": "execute_result"
    }
   ],
   "source": [
    "movies.head()"
   ]
  },
  {
   "cell_type": "code",
   "execution_count": 62,
   "id": "fff5e8ce-5295-4d53-8319-b3d80450da0f",
   "metadata": {},
   "outputs": [
    {
     "data": {
      "text/plain": [
       "\"four misfits find themselves struggling with ordinary problems when they are suddenly pulled through a mysterious portal into the overworld: a bizarre, cubic wonderland that thrives on imagination. to get back home, they'll have to master this world while embarking on a magical quest with an unexpected, expert crafter, steve. family comedy adventure fantasy friendship surrealism exploration portal miner friends survival zombie based_on_video_game aftercreditsstinger duringcreditsstinger journey imagination teamwork fantasy embarrassed building jason_momoa jack_black sebastian_eugene_hansen emma_myers danielle_brooks jared_hess\""
      ]
     },
     "execution_count": 62,
     "metadata": {},
     "output_type": "execute_result"
    }
   ],
   "source": [
    "movies.iloc[0]['tag']"
   ]
  },
  {
   "cell_type": "code",
   "execution_count": 64,
   "id": "212579fa-20d1-4415-9396-3136315d4501",
   "metadata": {},
   "outputs": [],
   "source": [
    "new_df = movies[['id','title','tag']]"
   ]
  },
  {
   "cell_type": "code",
   "execution_count": 66,
   "id": "5210daec-46bf-4c00-9eb0-abb43da14dc0",
   "metadata": {},
   "outputs": [
    {
     "data": {
      "text/html": [
       "<div>\n",
       "<style scoped>\n",
       "    .dataframe tbody tr th:only-of-type {\n",
       "        vertical-align: middle;\n",
       "    }\n",
       "\n",
       "    .dataframe tbody tr th {\n",
       "        vertical-align: top;\n",
       "    }\n",
       "\n",
       "    .dataframe thead th {\n",
       "        text-align: right;\n",
       "    }\n",
       "</style>\n",
       "<table border=\"1\" class=\"dataframe\">\n",
       "  <thead>\n",
       "    <tr style=\"text-align: right;\">\n",
       "      <th></th>\n",
       "      <th>id</th>\n",
       "      <th>title</th>\n",
       "      <th>tag</th>\n",
       "    </tr>\n",
       "  </thead>\n",
       "  <tbody>\n",
       "    <tr>\n",
       "      <th>0</th>\n",
       "      <td>950387</td>\n",
       "      <td>A Minecraft Movie</td>\n",
       "      <td>four misfits find themselves struggling with o...</td>\n",
       "    </tr>\n",
       "    <tr>\n",
       "      <th>1</th>\n",
       "      <td>1125899</td>\n",
       "      <td>Cleaner</td>\n",
       "      <td>when a group of radical activists take over an...</td>\n",
       "    </tr>\n",
       "    <tr>\n",
       "      <th>2</th>\n",
       "      <td>822119</td>\n",
       "      <td>Captain America: Brave New World</td>\n",
       "      <td>after meeting with newly elected u.s. presiden...</td>\n",
       "    </tr>\n",
       "    <tr>\n",
       "      <th>3</th>\n",
       "      <td>1197306</td>\n",
       "      <td>A Working Man</td>\n",
       "      <td>levon cade left behind a decorated military ca...</td>\n",
       "    </tr>\n",
       "    <tr>\n",
       "      <th>4</th>\n",
       "      <td>1252309</td>\n",
       "      <td>Ask Me What You Want</td>\n",
       "      <td>after his father's death, eric zimmerman trave...</td>\n",
       "    </tr>\n",
       "  </tbody>\n",
       "</table>\n",
       "</div>"
      ],
      "text/plain": [
       "        id                             title  \\\n",
       "0   950387                 A Minecraft Movie   \n",
       "1  1125899                           Cleaner   \n",
       "2   822119  Captain America: Brave New World   \n",
       "3  1197306                     A Working Man   \n",
       "4  1252309              Ask Me What You Want   \n",
       "\n",
       "                                                 tag  \n",
       "0  four misfits find themselves struggling with o...  \n",
       "1  when a group of radical activists take over an...  \n",
       "2  after meeting with newly elected u.s. presiden...  \n",
       "3  levon cade left behind a decorated military ca...  \n",
       "4  after his father's death, eric zimmerman trave...  "
      ]
     },
     "execution_count": 66,
     "metadata": {},
     "output_type": "execute_result"
    }
   ],
   "source": [
    "new_df.head()"
   ]
  },
  {
   "cell_type": "code",
   "execution_count": null,
   "id": "3f42c1c7-3002-4bb4-90c4-0b8dcd64f223",
   "metadata": {},
   "outputs": [],
   "source": []
  }
 ],
 "metadata": {
  "kernelspec": {
   "display_name": "Python 3 (ipykernel)",
   "language": "python",
   "name": "python3"
  },
  "language_info": {
   "codemirror_mode": {
    "name": "ipython",
    "version": 3
   },
   "file_extension": ".py",
   "mimetype": "text/x-python",
   "name": "python",
   "nbconvert_exporter": "python",
   "pygments_lexer": "ipython3",
   "version": "3.12.2"
  }
 },
 "nbformat": 4,
 "nbformat_minor": 5
}
